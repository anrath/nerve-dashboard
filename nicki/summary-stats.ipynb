{
 "cells": [
  {
   "cell_type": "code",
   "execution_count": 4,
   "metadata": {},
   "outputs": [
    {
     "name": "stdout",
     "output_type": "stream",
     "text": [
      "All Devices: 1416\n",
      "WLAN Devices: 1111\n",
      "Bluetooth Devices: 303\n"
     ]
    }
   ],
   "source": [
    "from pyvis.network import Network\n",
    "import pandas as pd\n",
    "import json\n",
    "\n",
    "# Opening JSON files... also turning them into Python Dictionaries??\n",
    "with open('../api/devices/all.json', 'r') as openfile:\n",
    "    all = json.load(openfile)\n",
    "\n",
    "with open('../api/devices/phydot11_accesspoints.json', 'r') as openfile:\n",
    "    aps = json.load(openfile)\n",
    "\n",
    "with open('../api/devices/phy-Bluetooth.json', 'r') as openfile:\n",
    "    blue = json.load(openfile)\n",
    "\n",
    "with open('../api/devices/phy-IEEE802.11.json', 'r') as openfile:\n",
    "    wlan = json.load(openfile)\n",
    "\n",
    "#print(all)\n",
    "\n",
    "# Collecting info on all devices\n",
    "all_df = pd.DataFrame()\n",
    "\n",
    "all_count = 0\n",
    "\n",
    "for dev in all:    \n",
    "    all_data = {\n",
    "        \"key\": [dev['kismet.device.base.key']], \n",
    "        \"manuf\": [dev['kismet.device.base.manuf']], \n",
    "        \"macaddr\": [dev['kismet.device.base.macaddr']]\n",
    "    }\n",
    "    all_count += 1\n",
    "    \n",
    "    all_df = pd.concat([all_df, pd.DataFrame(all_data)], ignore_index=True)\n",
    "\n",
    "print(\"All Devices:\", all_count)\n",
    "\n",
    "# Collecting info on wlan devices\n",
    "wlan_df = pd.DataFrame()\n",
    "\n",
    "wlan_count = 0\n",
    "\n",
    "for device in wlan:    \n",
    "    wlan_data = {\n",
    "        \"key\": [device['kismet.device.base.key']], \n",
    "        \"manuf\": [device['kismet.device.base.manuf']], \n",
    "        \"macaddr\": [device['kismet.device.base.macaddr']]\n",
    "    }\n",
    "    wlan_count += 1\n",
    "    \n",
    "    wlan_df = pd.concat([wlan_df, pd.DataFrame(wlan_data)], ignore_index=True)\n",
    "\n",
    "print(\"WLAN Devices:\", wlan_count)\n",
    "\n",
    "# Collecting info on bluetooth devices\n",
    "blue_df = pd.DataFrame()\n",
    "\n",
    "blue_count = 0\n",
    "\n",
    "for device in blue:    \n",
    "    blue_data = {\n",
    "        \"key\": [device['kismet.device.base.key']], \n",
    "        \"manuf\": [device['kismet.device.base.manuf']], \n",
    "        \"macaddr\": [device['kismet.device.base.macaddr']]\n",
    "    }\n",
    "    blue_count += 1\n",
    "    \n",
    "    blue_df = pd.concat([blue_df, pd.DataFrame(blue_data)], ignore_index=True)\n",
    "\n",
    "print(\"Bluetooth Devices:\", blue_count)\n",
    "\n",
    "# # Collecting info on access points\n",
    "# aps_df = pd.DataFrame()\n",
    "\n",
    "# aps_count = 0\n",
    "\n",
    "# for device in aps:    \n",
    "#     aps_data = {\n",
    "#         \"key\": [device['kismet.device.base.key']], \n",
    "#         \"manuf\": [device['kismet.device.base.manuf']], \n",
    "#         \"macaddr\": [device['kismet.device.base.macaddr']]\n",
    "#     }\n",
    "#     aps_count += 1\n",
    "    \n",
    "#     aps_df = pd.concat([aps_df, pd.DataFrame(aps_data)], ignore_index=True)\n",
    "\n",
    "# print(Access Points: aps_count)"
   ]
  },
  {
   "attachments": {},
   "cell_type": "markdown",
   "metadata": {},
   "source": [
    "Note: When I also counted the access points, #access points + # WLAN devices + # Bluetooth Devices > # All Devices,\n",
    "so I'm going to look into what overlap might be happening between aps/wlan/bluetooth and why."
   ]
  },
  {
   "cell_type": "markdown",
   "metadata": {},
   "source": []
  }
 ],
 "metadata": {
  "kernelspec": {
   "display_name": "Python 3",
   "language": "python",
   "name": "python3"
  },
  "language_info": {
   "codemirror_mode": {
    "name": "ipython",
    "version": 3
   },
   "file_extension": ".py",
   "mimetype": "text/x-python",
   "name": "python",
   "nbconvert_exporter": "python",
   "pygments_lexer": "ipython3",
   "version": "3.10.7"
  },
  "orig_nbformat": 4
 },
 "nbformat": 4,
 "nbformat_minor": 2
}
