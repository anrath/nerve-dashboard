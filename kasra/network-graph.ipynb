{
 "cells": [
  {
   "cell_type": "code",
   "execution_count": 1,
   "metadata": {},
   "outputs": [],
   "source": [
    "from pyvis.network import Network\n",
    "import pandas as pd\n",
    "import json"
   ]
  },
  {
   "cell_type": "code",
   "execution_count": 2,
   "metadata": {},
   "outputs": [],
   "source": [
    " # Opening JSON files\n",
    "with open('../api/devices/phydot11_accesspoints.json', 'r') as openfile:\n",
    "    aps = json.load(openfile)\n",
    "\n",
    "with open('../api/phy_phy80211_ssids_views_ssids.json', 'r') as openfile:\n",
    "    ssids = json.load(openfile)\n",
    "\n",
    "with open('../api/devices/phy-IEEE802.11.json', 'r') as openfile:\n",
    "    wlan = json.load(openfile)"
   ]
  },
  {
   "cell_type": "code",
   "execution_count": 3,
   "metadata": {},
   "outputs": [
    {
     "name": "stdout",
     "output_type": "stream",
     "text": [
      "                              key              manuf            macaddr ssid\n",
      "45  4202770D00000000_9050E97FF36C  Aruba Networks HP  6C:F3:7F:E9:50:90     \n",
      "53  4202770D00000000_AB773FB04562            Unknown  62:45:B0:3F:77:AB     \n",
      "59  4202770D00000000_5090E77FF36C  Aruba Networks HP  6C:F3:7F:E7:90:50     \n",
      "69   4202770D00000000_64D3AEC8AB8       Nintendo Ltd  B8:8A:EC:3A:4D:06     \n",
      "78  4202770D00000000_324574D60304       Nintendo Ltd  04:03:D6:74:45:32     \n"
     ]
    }
   ],
   "source": [
    "aps_df = pd.DataFrame()\n",
    "\n",
    "for ap in aps:\n",
    "    try:\n",
    "        ssid = ap['dot11.device']['dot11.device.responded_ssid_map'][0]['dot11.advertisedssid.ssid']\n",
    "    except:\n",
    "        try:\n",
    "            ssid = ap['dot11.device']['dot11.device.advertised_ssid_map'][0]['dot11.advertisedssid.ssid']\n",
    "        except:\n",
    "            try:\n",
    "                ssid = ap['dot11.device']['dot11.device.probed_ssid_map'][0]['dot11.probedssid.ssid']\n",
    "            except:\n",
    "                ssid = 'eduroam'\n",
    "    ap_data = {\n",
    "        \"key\": [ap['kismet.device.base.key']], \n",
    "        \"manuf\": [ap['kismet.device.base.manuf']], \n",
    "        \"macaddr\": [ap['kismet.device.base.macaddr']],\n",
    "        \"ssid\": [ssid]\n",
    "    }\n",
    "    \n",
    "    aps_df = pd.concat([aps_df, pd.DataFrame(ap_data)], ignore_index=True)\n",
    "\n",
    "print(aps_df[aps_df['ssid']==''])"
   ]
  },
  {
   "cell_type": "code",
   "execution_count": 4,
   "metadata": {},
   "outputs": [],
   "source": [
    "# Attempt to fill in missing SSIDs\n",
    "for ssid in ssids:\n",
    "    set1 = set(aps_df[aps_df['ssid']=='']['key'].values)\n",
    "    list2 = ssid['dot11.ssidgroup.responding_devices']\n",
    "    common = list(set1.intersection(list2))\n",
    "    for val in common:\n",
    "        ind = aps_df[aps_df['key']==val].index[0]\n",
    "        # print(ind)\n",
    "        aps_df.at[ind, 'ssid'] = ssid['dot11.ssidgroup.ssid']\n",
    "\n",
    "# Remove empty SSIDs\n",
    "aps_df = aps_df[aps_df['ssid']!='']"
   ]
  },
  {
   "cell_type": "code",
   "execution_count": 5,
   "metadata": {},
   "outputs": [],
   "source": [
    "wlan_df = pd.DataFrame()\n",
    "\n",
    "for device in wlan:    \n",
    "    # try:\n",
    "    #     ssid = device['dot11.device']['dot11.device.responded_ssid_map'][0]['dot11.advertisedssid.ssid']\n",
    "    # except:\n",
    "    #     try:\n",
    "    #         ssid = device['dot11.device']['dot11.device.advertised_ssid_map'][0]['dot11.advertisedssid.ssid']\n",
    "    #     except:\n",
    "    #         try:\n",
    "    #             ssid = device['dot11.device']['dot11.device.last_probed_ssid_record'][0]['dot11.probedssid.bssid']\n",
    "    #         except:\n",
    "    #             try:\n",
    "    #                 ssid = device['dot11.device']['dot11.device.probed_ssid_map'][0]['dot11.probedssid.ssid']\n",
    "    #             except:\n",
    "    #                 pass\n",
    "    #             # ssid = 'eduroam'\n",
    "    #             # pass\n",
    "\n",
    "    wlan_data = {\n",
    "        \"ap\": [device['dot11.device']['dot11.device.last_bssid']],\n",
    "        \"key\": [device['kismet.device.base.key']], \n",
    "        \"manuf\": [device['kismet.device.base.manuf']], \n",
    "        \"macaddr\": [device['kismet.device.base.macaddr']],\n",
    "        # \"ssid\": [ssid],\n",
    "    }\n",
    "    \n",
    "    wlan_data = pd.DataFrame(wlan_data)\n",
    "\n",
    "    wlan_df = pd.concat([wlan_df, wlan_data], ignore_index=True)\n",
    "wlan_df['ap_bool'] = False\n",
    "# wlan_df.rename(columns={'ap': 'ssid'}, inplace=True)"
   ]
  },
  {
   "cell_type": "code",
   "execution_count": 6,
   "metadata": {},
   "outputs": [],
   "source": [
    "# Attempt to fill in missing APs\n",
    "for ap in aps:\n",
    "    set1 = set(wlan_df[wlan_df['ap']=='00:00:00:00:00:00']['macaddr'].values)\n",
    "    try:\n",
    "        list2 = ap['dot11.device']['dot11.device.associated_client_map']\n",
    "    except:\n",
    "        continue\n",
    "    common = list(set1.intersection(list2))\n",
    "    for val in common:\n",
    "        ind = wlan_df[wlan_df['macaddr']==val].index[0]\n",
    "        # print(ind)\n",
    "        wlan_df.at[ind, 'ap'] = ap['kismet.device.base.macaddr']"
   ]
  },
  {
   "cell_type": "code",
   "execution_count": 7,
   "metadata": {},
   "outputs": [],
   "source": [
    "# prob = pd.DataFrame()\n",
    "\n",
    "# ssid = ssids[11]\n",
    "# # probing devices nodes/edges\n",
    "# temp_prob = pd.DataFrame(ssid['dot11.ssidgroup.probing_devices'])\n",
    "# temp_prob['ssid'] = ssid['dot11.ssidgroup.ssid']\n",
    "# temp_prob.rename(columns={0: 'devices'}, inplace=True)\n",
    "# temp_prob = temp_prob[['ssid', 'devices']]\n",
    "# # temp_prob['weight'] = 1\n",
    "# # temp_prob['ap_bool'] = False\n",
    "# # Updating device keys with mac addresses\n",
    "# # temp_prob = pd.merge(temp_prob, wlan_df[['ssid', 'macaddr', 'manuf', 'ap_bool']], left_on='devices', right_on='key', how='inner')\n",
    "# # temp_prob = temp_prob[columns]\n",
    "# prob = pd.concat([prob, temp_prob], ignore_index=True)\n",
    "\n",
    "# temp_prob"
   ]
  },
  {
   "cell_type": "code",
   "execution_count": 8,
   "metadata": {},
   "outputs": [],
   "source": [
    "ssids_df = pd.DataFrame()\n",
    "ssids_num = pd.DataFrame()\n",
    "columns = ['ssid', 'macaddr', 'manuf', 'ap_bool']\n",
    "\n",
    "for ssid in ssids:\n",
    "    # ssid device numbers\n",
    "    ssid_data = {\n",
    "        \"ssid\": [ssid['dot11.ssidgroup.ssid']], \n",
    "        \"num_probing\": [ssid['dot11.ssidgroup.probing_devices_len']], \n",
    "        \"num_responding\": [ssid['dot11.ssidgroup.responding_devices_len']]\n",
    "    }\n",
    "    \n",
    "    ssids_num = pd.concat([ssids_num, pd.DataFrame(ssid_data)], ignore_index=True)\n",
    "\n",
    "    temp_res = pd.DataFrame(columns=columns)\n",
    "    if (len(ssid['dot11.ssidgroup.responding_devices']) != 0):\n",
    "        # responding devices devices nodes/edges\n",
    "        temp_res = pd.DataFrame(ssid['dot11.ssidgroup.responding_devices'])\n",
    "        temp_res['ssid'] = ssid['dot11.ssidgroup.ssid']\n",
    "        temp_res.rename(columns={0: 'devices'}, inplace=True)\n",
    "        temp_res = temp_res[['ssid', 'devices']]\n",
    "        # temp_res['weight'] = 2\n",
    "        temp_res['ap_bool'] = True\n",
    "        # Updating device keys with mac addresses\n",
    "        temp_res = pd.merge(temp_res, aps_df.loc[:, ~aps_df.columns.isin(['ssid'])], left_on='devices', right_on='key', how='inner')\n",
    "        temp_res = temp_res[columns]\n",
    "    \n",
    "    temp_prob = pd.DataFrame(columns=columns)\n",
    "    if (len(ssid['dot11.ssidgroup.probing_devices']) != 0 and ssid['dot11.ssidgroup.ssid']!='eduroam'):\n",
    "        # probing devices nodes/edges\n",
    "        temp_prob = pd.DataFrame(ssid['dot11.ssidgroup.probing_devices'])\n",
    "        temp_prob['ssid'] = ssid['dot11.ssidgroup.ssid']\n",
    "        temp_prob.rename(columns={0: 'devices'}, inplace=True)\n",
    "        temp_prob = temp_prob[['ssid', 'devices']]\n",
    "        # temp_prob['weight'] = 1\n",
    "        # temp_prob['ap_bool'] = False\n",
    "        # Updating device keys with mac addresses\n",
    "        temp_prob = pd.merge(temp_prob, wlan_df, left_on='devices', right_on='key', how='inner')\n",
    "        temp_prob = temp_prob[columns]\n",
    "\n",
    "    # concat all\n",
    "    ssids_df = pd.concat([ssids_df, temp_res, temp_prob], ignore_index=True)\n",
    "\n",
    "# ssids_df = pd.concat([ssids_df, wlan_df], ignore_index=True)\n",
    "\n",
    "# Remove Aruba Networks HP devices\n",
    "wlan_df = wlan_df[wlan_df['manuf']!='Aruba Networks HP']\n",
    "# Remove empty devices with empty APs\n",
    "wlan_df = wlan_df[wlan_df['ap']!='00:00:00:00:00:00']"
   ]
  },
  {
   "cell_type": "code",
   "execution_count": 17,
   "metadata": {},
   "outputs": [],
   "source": [
    "wlan_df_sample = wlan_df.sample(n=1000)"
   ]
  },
  {
   "attachments": {},
   "cell_type": "markdown",
   "metadata": {},
   "source": [
    "# graph viz"
   ]
  },
  {
   "cell_type": "code",
   "execution_count": 18,
   "metadata": {},
   "outputs": [],
   "source": [
    "# Graph Setup\n",
    "net = Network(\n",
    "    notebook=True,\n",
    "    cdn_resources=\"remote\",\n",
    "    height=\"750px\", \n",
    "    width=\"100%\", \n",
    "    bgcolor=\"#222222\", \n",
    "    font_color=\"white\",\n",
    "    # select_menu=True,\n",
    "    # filter_menu=True,\n",
    ")\n",
    "\n",
    "# Physics\n",
    "net.force_atlas_2based()\n",
    "# net.repulsion(\n",
    "#     # node_distance=100,\n",
    "#     # central_gravity=0.1,\n",
    "#     spring_length=200,\n",
    "#     # spring_strength=0.05,\n",
    "#     damping=0.09,\n",
    "# )\n",
    "# net.show_buttons(filter_='physics')\n",
    "\n",
    "images = {'Intel Corporation':'https://raw.githubusercontent.com/anrath/data/master/intel_logo.jpg', \n",
    "          'Apple':'https://raw.githubusercontent.com/anrath/data/master/apple_gray_logo.png', \n",
    "          'Aruba Networks HP':'https://raw.githubusercontent.com/anrath/data/master/aruba_logo.jpg'\n",
    "        }"
   ]
  },
  {
   "cell_type": "code",
   "execution_count": 19,
   "metadata": {},
   "outputs": [],
   "source": [
    "# SSID-AP Edges\n",
    "\n",
    "sources = ssids_df['ssid']\n",
    "targets = ssids_df['macaddr']\n",
    "manuf = ssids_df['manuf']\n",
    "ap_bool = ssids_df['ap_bool']\n",
    "\n",
    "edge_data = zip(sources, targets, manuf, ap_bool)\n",
    "\n",
    "for e in edge_data:\n",
    "    src = e[0]\n",
    "    dst = e[1]\n",
    "    manuf = e[2]\n",
    "    ap_bool = e[3]\n",
    "\n",
    "    net.add_node(src, src, title=src, group=1, shape='diamond')\n",
    "\n",
    "    device_group = 2 if ap_bool else 3\n",
    "\n",
    "    if (manuf in images.keys()):\n",
    "        net.add_node(dst, dst, title=dst, group=device_group, shape='circularImage', image=images[manuf], brokenImage='circle')\n",
    "    else:\n",
    "        net.add_node(dst, dst, title=dst, group=device_group, shape='circularImage', image='https://raw.githubusercontent.com/anrath/data/master/blank.png', brokenImage='circle')\n",
    "    net.add_edge(src, dst)\n"
   ]
  },
  {
   "cell_type": "code",
   "execution_count": 20,
   "metadata": {},
   "outputs": [],
   "source": [
    "# ssids_df[(ssids_df['ssid'].isin(['eduroam', 'UVA WiFi Setup'])) & (ssids_df['manuf']!= 'Aruba Networks HP')]"
   ]
  },
  {
   "cell_type": "code",
   "execution_count": 21,
   "metadata": {},
   "outputs": [],
   "source": [
    "# Weird apply device?\n",
    "# ssids_df[ssids_df['macaddr'] ==\"00:25:00:FF:94:73\"]\n",
    "# wlan_df[wlan_df['ap'] ==\"00:25:00:FF:94:73\"]"
   ]
  },
  {
   "cell_type": "code",
   "execution_count": 22,
   "metadata": {},
   "outputs": [],
   "source": [
    "# AP-Device Edges\n",
    "aps = wlan_df_sample['ap']\n",
    "devices = wlan_df_sample['macaddr']\n",
    "manuf = wlan_df_sample['manuf']\n",
    "# ap_bool = wlan_df['ap_bool']\n",
    "\n",
    "edge_data = zip(aps, devices, manuf)\n",
    "\n",
    "for e in edge_data:\n",
    "    src = e[0]\n",
    "    dst = e[1]\n",
    "    manuf = e[2]\n",
    "\n",
    "    # net.add_node(src, src, title=src, group=2, shape='diamond')\n",
    "    net.add_node(src, src, title=src, group=2, shape='circularImage', image=images['Aruba Networks HP'], brokenImage='circle')\n",
    "\n",
    "    device_group = 3\n",
    "\n",
    "    if (manuf in images.keys()):\n",
    "        net.add_node(dst, dst, title=dst, group=device_group, shape='circularImage', image=images[manuf], brokenImage='circle')\n",
    "    else:\n",
    "        net.add_node(dst, dst, title=dst, group=device_group, shape='circularImage', image='https://raw.githubusercontent.com/anrath/data/master/blank.png', brokenImage='circle')\n",
    "    net.add_edge(src, dst)\n"
   ]
  },
  {
   "cell_type": "code",
   "execution_count": 23,
   "metadata": {},
   "outputs": [
    {
     "name": "stdout",
     "output_type": "stream",
     "text": [
      "ssid.html\n"
     ]
    },
    {
     "data": {
      "text/html": [
       "\n",
       "        <iframe\n",
       "            width=\"100%\"\n",
       "            height=\"750px\"\n",
       "            src=\"ssid.html\"\n",
       "            frameborder=\"0\"\n",
       "            allowfullscreen\n",
       "            \n",
       "        ></iframe>\n",
       "        "
      ],
      "text/plain": [
       "<IPython.lib.display.IFrame at 0x7f76ab785a00>"
      ]
     },
     "execution_count": 23,
     "metadata": {},
     "output_type": "execute_result"
    }
   ],
   "source": [
    "# Hover Text\n",
    "neighbor_map = net.get_adj_list()\n",
    "\n",
    "# add neighbor data to node hover data\n",
    "for node in net.nodes:\n",
    "    node[\"title\"] += \" Neighbors:\\n\" + \"\\n\".join(neighbor_map[node[\"id\"]])\n",
    "    node[\"value\"] = len(neighbor_map[node[\"id\"]])\n",
    "\n",
    "net.prep_notebook()\n",
    "net.show(\"ssid.html\")\n",
    "# net.show(\"ssid_small.html\")"
   ]
  }
 ],
 "metadata": {
  "kernelspec": {
   "display_name": "ddos",
   "language": "python",
   "name": "python3"
  },
  "language_info": {
   "codemirror_mode": {
    "name": "ipython",
    "version": 3
   },
   "file_extension": ".py",
   "mimetype": "text/x-python",
   "name": "python",
   "nbconvert_exporter": "python",
   "pygments_lexer": "ipython3",
   "version": "3.9.16"
  },
  "orig_nbformat": 4,
  "vscode": {
   "interpreter": {
    "hash": "474ed52265fd76aac0794e4da77b23e0aa448c3e84fa6827d508411bbdf5b83f"
   }
  }
 },
 "nbformat": 4,
 "nbformat_minor": 2
}
