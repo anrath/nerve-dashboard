{
 "cells": [
  {
   "cell_type": "code",
   "execution_count": 180,
   "metadata": {},
   "outputs": [],
   "source": [
    "from pyvis.network import Network\n",
    "import pandas as pd\n",
    "import json"
   ]
  },
  {
   "cell_type": "code",
   "execution_count": 181,
   "metadata": {},
   "outputs": [],
   "source": [
    " # Opening JSON files\n",
    "with open('../api/devices/phydot11_accesspoints.json', 'r') as openfile:\n",
    "    aps = json.load(openfile)\n",
    "\n",
    "with open('../api/phy_phy80211_ssids_views_ssids.json', 'r') as openfile:\n",
    "    ssids = json.load(openfile)\n",
    "\n",
    "with open('../api/devices/phy-IEEE802.11.json', 'r') as openfile:\n",
    "    wlan = json.load(openfile)"
   ]
  },
  {
   "cell_type": "code",
   "execution_count": 182,
   "metadata": {},
   "outputs": [],
   "source": [
    "aps_df = pd.DataFrame()\n",
    "\n",
    "for ap in aps:    \n",
    "    ap_data = {\n",
    "        \"key\": [ap['kismet.device.base.key']], \n",
    "        \"manuf\": [ap['kismet.device.base.manuf']], \n",
    "        \"macaddr\": [ap['kismet.device.base.macaddr']]\n",
    "    }\n",
    "    \n",
    "    aps_df = pd.concat([aps_df, pd.DataFrame(ap_data)], ignore_index=True)"
   ]
  },
  {
   "cell_type": "code",
   "execution_count": 183,
   "metadata": {},
   "outputs": [],
   "source": [
    "wlan_df = pd.DataFrame()\n",
    "\n",
    "for device in wlan:    \n",
    "    wlan_data = {\n",
    "        \"key\": [device['kismet.device.base.key']], \n",
    "        \"manuf\": [device['kismet.device.base.manuf']], \n",
    "        \"macaddr\": [device['kismet.device.base.macaddr']]\n",
    "    }\n",
    "    \n",
    "    wlan_df = pd.concat([wlan_df, pd.DataFrame(wlan_data)], ignore_index=True)"
   ]
  },
  {
   "cell_type": "code",
   "execution_count": 184,
   "metadata": {},
   "outputs": [],
   "source": [
    "ssids_df = pd.DataFrame()\n",
    "ssids_num = pd.DataFrame()\n",
    "columns = ['ssid', 'macaddr', 'manuf', 'weight', 'ap_bool']\n",
    "\n",
    "for ssid in ssids:\n",
    "    # ssid device numbers\n",
    "    ssid_data = {\n",
    "        \"ssid\": [ssid['dot11.ssidgroup.ssid']], \n",
    "        \"num_probing\": [ssid['dot11.ssidgroup.probing_devices_len']], \n",
    "        \"num_responding\": [ssid['dot11.ssidgroup.responding_devices_len']]\n",
    "    }\n",
    "    \n",
    "    ssids_num = pd.concat([ssids_num, pd.DataFrame(ssid_data)], ignore_index=True)\n",
    "\n",
    "    temp_res = pd.DataFrame(columns=columns)\n",
    "    if (len(ssid['dot11.ssidgroup.responding_devices']) != 0):\n",
    "        # responding devices devices nodes/edges\n",
    "        temp_res = pd.DataFrame(ssid['dot11.ssidgroup.responding_devices'])\n",
    "        temp_res['ssid'] = ssid['dot11.ssidgroup.ssid']\n",
    "        temp_res.rename(columns={0: 'devices'}, inplace=True)\n",
    "        temp_res = temp_res[['ssid', 'devices']]\n",
    "        temp_res['weight'] = 2\n",
    "        temp_res['ap_bool'] = True\n",
    "        # Updating device keys with mac addresses\n",
    "        temp_res = pd.merge(temp_res, aps_df, left_on='devices', right_on='key', how='inner')\n",
    "        temp_res = temp_res[columns]\n",
    "    \n",
    "    temp_prob = pd.DataFrame(columns=columns)\n",
    "    if (len(ssid['dot11.ssidgroup.probing_devices']) != 0):\n",
    "        # probing devices nodes/edges\n",
    "        temp_prob = pd.DataFrame(ssid['dot11.ssidgroup.probing_devices'])\n",
    "        temp_prob['ssid'] = ssid['dot11.ssidgroup.ssid']\n",
    "        temp_prob.rename(columns={0: 'devices'}, inplace=True)\n",
    "        temp_prob = temp_prob[['ssid', 'devices']]\n",
    "        temp_prob['weight'] = 1\n",
    "        temp_prob['ap_bool'] = False\n",
    "        # Updating device keys with mac addresses\n",
    "        temp_prob = pd.merge(temp_prob, wlan_df, left_on='devices', right_on='key', how='inner')\n",
    "        temp_prob = temp_prob[columns]\n",
    "\n",
    "    # concat all\n",
    "    ssids_df = pd.concat([ssids_df, temp_adv, temp_prob], ignore_index=True)"
   ]
  },
  {
   "cell_type": "code",
   "execution_count": 185,
   "metadata": {},
   "outputs": [
    {
     "data": {
      "text/plain": [
       "manuf\n",
       "Apple                              40\n",
       "Unknown                            34\n",
       "Intel Corporation                  10\n",
       "Liteon Technology Corporation       1\n",
       "Netgear                             1\n",
       "TP-Link Technologies Ltd            1\n",
       "TRENDnet Inc.                       1\n",
       "Nintendo Ltd                        1\n",
       "HP Inc.                             1\n",
       "Chongqing Fugui Electronics Ltd     1\n",
       "Name: count, dtype: int64"
      ]
     },
     "execution_count": 185,
     "metadata": {},
     "output_type": "execute_result"
    }
   ],
   "source": [
    "ssids_df['manuf'].value_counts()"
   ]
  },
  {
   "attachments": {},
   "cell_type": "markdown",
   "metadata": {},
   "source": [
    "# graph viz"
   ]
  },
  {
   "cell_type": "code",
   "execution_count": 208,
   "metadata": {},
   "outputs": [],
   "source": [
    "net = Network(\n",
    "    notebook=True,\n",
    "    cdn_resources=\"remote\",\n",
    "    height=\"750px\", \n",
    "    width=\"100%\", \n",
    "    bgcolor=\"#222222\", \n",
    "    font_color=\"white\",\n",
    "    # select_menu=True,\n",
    "    # filter_menu=True,\n",
    ")\n",
    "\n",
    "# Physics\n",
    "net.force_atlas_2based()\n",
    "# net.repulsion(\n",
    "#     # node_distance=100,\n",
    "#     # central_gravity=0.1,\n",
    "#     spring_length=200,\n",
    "#     # spring_strength=0.05,\n",
    "#     damping=0.09,\n",
    "# )\n",
    "# net.show_buttons(filter_='physics')\n",
    "\n",
    "sources = ssids_df['ssid']\n",
    "targets = ssids_df['macaddr']\n",
    "weights = ssids_df['weight']\n",
    "manuf = ssids_df['manuf']\n",
    "ap_bool = ssids_df['ap_bool']\n",
    "\n",
    "edge_data = zip(sources, targets, weights, manuf, ap_bool)\n",
    "\n",
    "images = {'Intel Corporation':'https://raw.githubusercontent.com/anrath/data/master/intel_logo.jpg', 'Apple':'https://raw.githubusercontent.com/anrath/data/master/apple_logo.png'}\n",
    "\n",
    "for e in edge_data:\n",
    "    src = e[0]\n",
    "    dst = e[1]\n",
    "    w = e[2]\n",
    "    manuf = e[3]\n",
    "    ap_bool = e[4]\n",
    "\n",
    "    net.add_node(src, src, title=src, group=1, shape='diamond')\n",
    "\n",
    "    device_group = 2 if ap_bool else 3\n",
    "\n",
    "    if (manuf in images.keys()):\n",
    "        net.add_node(dst, dst, title=src, group=device_group, shape='circularImage', image=images[manuf], brokenImage='circle')\n",
    "    else:\n",
    "        net.add_node(dst, dst, title=dst, group=device_group, shape='circularImage', image='https://raw.githubusercontent.com/anrath/data/master/blank.png', brokenImage='circle')\n",
    "    net.add_edge(src, dst)\n"
   ]
  },
  {
   "cell_type": "code",
   "execution_count": 209,
   "metadata": {},
   "outputs": [
    {
     "name": "stdout",
     "output_type": "stream",
     "text": [
      "ssid.html\n"
     ]
    },
    {
     "data": {
      "text/html": [
       "\n",
       "        <iframe\n",
       "            width=\"100%\"\n",
       "            height=\"750px\"\n",
       "            src=\"ssid.html\"\n",
       "            frameborder=\"0\"\n",
       "            allowfullscreen\n",
       "            \n",
       "        ></iframe>\n",
       "        "
      ],
      "text/plain": [
       "<IPython.lib.display.IFrame at 0x7f47396553a0>"
      ]
     },
     "execution_count": 209,
     "metadata": {},
     "output_type": "execute_result"
    }
   ],
   "source": [
    "neighbor_map = net.get_adj_list()\n",
    "\n",
    "# add neighbor data to node hover data\n",
    "for node in net.nodes:\n",
    "    node[\"title\"] += \" Neighbors:\\n\" + \"\\n\".join(neighbor_map[node[\"id\"]])\n",
    "    node[\"value\"] = len(neighbor_map[node[\"id\"]])\n",
    "\n",
    "net.prep_notebook()\n",
    "net.show(\"ssid.html\")"
   ]
  }
 ],
 "metadata": {
  "kernelspec": {
   "display_name": "ddos",
   "language": "python",
   "name": "python3"
  },
  "language_info": {
   "codemirror_mode": {
    "name": "ipython",
    "version": 3
   },
   "file_extension": ".py",
   "mimetype": "text/x-python",
   "name": "python",
   "nbconvert_exporter": "python",
   "pygments_lexer": "ipython3",
   "version": "3.9.16"
  },
  "orig_nbformat": 4,
  "vscode": {
   "interpreter": {
    "hash": "474ed52265fd76aac0794e4da77b23e0aa448c3e84fa6827d508411bbdf5b83f"
   }
  }
 },
 "nbformat": 4,
 "nbformat_minor": 2
}
