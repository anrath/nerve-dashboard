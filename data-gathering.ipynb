{
 "cells": [
  {
   "attachments": {},
   "cell_type": "markdown",
   "metadata": {},
   "source": [
    "# Other Data"
   ]
  },
  {
   "cell_type": "code",
   "execution_count": 4,
   "metadata": {},
   "outputs": [],
   "source": [
    "import requests\n",
    "import json\n",
    "import re\n",
    "user_password = \"http://sniffer:sniffer@\"\n",
    "server_ip = \"172.26.114.110:2501\"\n",
    "\n",
    "# Endpoints attempted:\n",
    "endpoint1 = \"/channels/channels.json\"\n",
    "endpoint2 = \"/phy/phy80211/ssids/views/ssids.json\"\n",
    "endpoint3 = \"/alerts/all_alerts.json\"\n",
    "endpoints = [endpoint1, endpoint2, endpoint3]\n",
    "\n",
    "for endpoint in endpoints:\n",
    "    r = requests.get(user_password + server_ip + endpoint, headers={\"KISMET\": \"E62F6C667B3CF269798AC58E0D811D85\"})\n",
    "    file_str = re.sub('/', '_', endpoint[1:])\n",
    "\n",
    "    with open(f'api/{file_str}', \"w\") as outfile:\n",
    "        json_object = json.dumps(r.json(), indent=4)\n",
    "        outfile.write(json_object)"
   ]
  },
  {
   "attachments": {},
   "cell_type": "markdown",
   "metadata": {},
   "source": [
    "# Generating PCAP Data"
   ]
  },
  {
   "cell_type": "code",
   "execution_count": 5,
   "metadata": {},
   "outputs": [
    {
     "name": "stdout",
     "output_type": "stream",
     "text": [
      "200\n"
     ]
    }
   ],
   "source": [
    "import requests\n",
    "import json\n",
    "import re\n",
    "user_password = \"http://sniffer:sniffer@\"\n",
    "server_ip = \"172.26.114.110:2501\"\n",
    "endpoint = \"/logging/kismetdb/pcap/blah.pcapng\"\n",
    "\n",
    "x = requests.get(user_password + server_ip + endpoint, headers={\"KISMET\": \"E62F6C667B3CF269798AC58E0D811D85\"})\n",
    "print(x.status_code)"
   ]
  },
  {
   "cell_type": "code",
   "execution_count": 6,
   "metadata": {},
   "outputs": [],
   "source": [
    "file_str = re.sub('/', '_', endpoint[1:])\n",
    "with open(f'api/{file_str}', \"wb\") as file:\n",
    "    file.write(x.content)"
   ]
  },
  {
   "attachments": {},
   "cell_type": "markdown",
   "metadata": {},
   "source": [
    "# Getting device data"
   ]
  },
  {
   "cell_type": "code",
   "execution_count": 13,
   "metadata": {},
   "outputs": [
    {
     "ename": "FileNotFoundError",
     "evalue": "[Errno 2] No such file or directory: '/api/devices/phy-Bluetooth.json'",
     "output_type": "error",
     "traceback": [
      "\u001b[0;31m---------------------------------------------------------------------------\u001b[0m",
      "\u001b[0;31mFileNotFoundError\u001b[0m                         Traceback (most recent call last)",
      "Cell \u001b[0;32mIn[13], line 21\u001b[0m\n\u001b[1;32m     18\u001b[0m x \u001b[39m=\u001b[39m requests\u001b[39m.\u001b[39mget(user_password \u001b[39m+\u001b[39m server_ip \u001b[39m+\u001b[39m endpoint, headers\u001b[39m=\u001b[39m{\u001b[39m\"\u001b[39m\u001b[39mKISMET\u001b[39m\u001b[39m\"\u001b[39m: \u001b[39m\"\u001b[39m\u001b[39mE62F6C667B3CF269798AC58E0D811D85\u001b[39m\u001b[39m\"\u001b[39m})\n\u001b[1;32m     19\u001b[0m json_object \u001b[39m=\u001b[39m json\u001b[39m.\u001b[39mdumps(x\u001b[39m.\u001b[39mjson(), indent\u001b[39m=\u001b[39m\u001b[39m4\u001b[39m)\n\u001b[0;32m---> 21\u001b[0m \u001b[39mwith\u001b[39;00m \u001b[39mopen\u001b[39;49m(\u001b[39mf\u001b[39;49m\u001b[39m\"\u001b[39;49m\u001b[39m/api/devices/\u001b[39;49m\u001b[39m{\u001b[39;49;00mVIEWID\u001b[39m}\u001b[39;49;00m\u001b[39m.json\u001b[39;49m\u001b[39m\"\u001b[39;49m, \u001b[39m\"\u001b[39;49m\u001b[39mw\u001b[39;49m\u001b[39m\"\u001b[39;49m) \u001b[39mas\u001b[39;00m outfile:\n\u001b[1;32m     22\u001b[0m     outfile\u001b[39m.\u001b[39mwrite(json_object)\n",
      "File \u001b[0;32m~/miniconda3/envs/ddos/lib/python3.9/site-packages/IPython/core/interactiveshell.py:284\u001b[0m, in \u001b[0;36m_modified_open\u001b[0;34m(file, *args, **kwargs)\u001b[0m\n\u001b[1;32m    277\u001b[0m \u001b[39mif\u001b[39;00m file \u001b[39min\u001b[39;00m {\u001b[39m0\u001b[39m, \u001b[39m1\u001b[39m, \u001b[39m2\u001b[39m}:\n\u001b[1;32m    278\u001b[0m     \u001b[39mraise\u001b[39;00m \u001b[39mValueError\u001b[39;00m(\n\u001b[1;32m    279\u001b[0m         \u001b[39mf\u001b[39m\u001b[39m\"\u001b[39m\u001b[39mIPython won\u001b[39m\u001b[39m'\u001b[39m\u001b[39mt let you open fd=\u001b[39m\u001b[39m{\u001b[39;00mfile\u001b[39m}\u001b[39;00m\u001b[39m by default \u001b[39m\u001b[39m\"\u001b[39m\n\u001b[1;32m    280\u001b[0m         \u001b[39m\"\u001b[39m\u001b[39mas it is likely to crash IPython. If you know what you are doing, \u001b[39m\u001b[39m\"\u001b[39m\n\u001b[1;32m    281\u001b[0m         \u001b[39m\"\u001b[39m\u001b[39myou can use builtins\u001b[39m\u001b[39m'\u001b[39m\u001b[39m open.\u001b[39m\u001b[39m\"\u001b[39m\n\u001b[1;32m    282\u001b[0m     )\n\u001b[0;32m--> 284\u001b[0m \u001b[39mreturn\u001b[39;00m io_open(file, \u001b[39m*\u001b[39;49margs, \u001b[39m*\u001b[39;49m\u001b[39m*\u001b[39;49mkwargs)\n",
      "\u001b[0;31mFileNotFoundError\u001b[0m: [Errno 2] No such file or directory: '/api/devices/phy-Bluetooth.json'"
     ]
    }
   ],
   "source": [
    "import requests\n",
    "import json\n",
    "\n",
    "user_password = \"http://sniffer:sniffer@\"\n",
    "server_ip = \"172.26.114.110:2501\"\n",
    "\n",
    "# Retrieved from: \n",
    "# endpoint = \"/devices/views/all_views.json\"\n",
    "bluetooth_VIEWID = \"phy-Bluetooth\"\n",
    "accesspoints_VIEWID = \"phydot11_accesspoints\"\n",
    "IEEE802_11_VIEWID = \"phy-IEEE802.11\"\n",
    "all_VIEWID = \"all\"\n",
    "\n",
    "VIEWID_list = [bluetooth_VIEWID, accesspoints_VIEWID, IEEE802_11_VIEWID, all_VIEWID]\n",
    "\n",
    "for VIEWID in VIEWID_list:\n",
    "    endpoint = f\"/devices/views/{VIEWID}/devices.json\"\n",
    "    x = requests.get(user_password + server_ip + endpoint, headers={\"KISMET\": \"E62F6C667B3CF269798AC58E0D811D85\"})\n",
    "    json_object = json.dumps(x.json(), indent=4)\n",
    "\n",
    "    with open(f\"api/devices/{VIEWID}.json\", \"w\") as outfile:\n",
    "        outfile.write(json_object)"
   ]
  }
 ],
 "metadata": {
  "kernelspec": {
   "display_name": "ddos",
   "language": "python",
   "name": "python3"
  },
  "language_info": {
   "codemirror_mode": {
    "name": "ipython",
    "version": 3
   },
   "file_extension": ".py",
   "mimetype": "text/x-python",
   "name": "python",
   "nbconvert_exporter": "python",
   "pygments_lexer": "ipython3",
   "version": "3.9.16"
  },
  "orig_nbformat": 4,
  "vscode": {
   "interpreter": {
    "hash": "474ed52265fd76aac0794e4da77b23e0aa448c3e84fa6827d508411bbdf5b83f"
   }
  }
 },
 "nbformat": 4,
 "nbformat_minor": 2
}
