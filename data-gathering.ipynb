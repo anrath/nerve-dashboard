{
 "cells": [
  {
   "attachments": {},
   "cell_type": "markdown",
   "metadata": {},
   "source": [
    "# Other Data"
   ]
  },
  {
   "cell_type": "code",
   "execution_count": 1,
   "metadata": {},
   "outputs": [],
   "source": [
    "import requests\n",
    "import json\n",
    "import re\n",
    "user_password = \"http://sniffer:sniffer@\"\n",
    "server_ip = \"192.168.137.74:2501\"\n",
    "\n",
    "# Endpoints attempted:\n",
    "endpoint1 = \"/channels/channels.json\"\n",
    "endpoint2 = \"/phy/phy80211/ssids/views/ssids.json\"\n",
    "endpoint3 = \"/alerts/all_alerts.json\"\n",
    "endpoints = [endpoint1, endpoint2, endpoint3]\n",
    "\n",
    "for endpoint in endpoints:\n",
    "    r = requests.get(user_password + server_ip + endpoint, headers={\"KISMET\": \"E62F6C667B3CF269798AC58E0D811D85\"})\n",
    "    file_str = re.sub('/', '_', endpoint[1:])\n",
    "\n",
    "    with open(f'api/{file_str}', \"w\") as outfile:\n",
    "        json_object = json.dumps(r.json(), indent=4)\n",
    "        outfile.write(json_object)"
   ]
  },
  {
   "attachments": {},
   "cell_type": "markdown",
   "metadata": {},
   "source": [
    "# Generating PCAP Data"
   ]
  },
  {
   "cell_type": "code",
   "execution_count": 2,
   "metadata": {},
   "outputs": [
    {
     "name": "stdout",
     "output_type": "stream",
     "text": [
      "200\n"
     ]
    }
   ],
   "source": [
    "import requests\n",
    "import json\n",
    "import re\n",
    "user_password = \"http://sniffer:sniffer@\"\n",
    "server_ip = \"192.168.137.74:2501\"\n",
    "endpoint = \"/logging/kismetdb/pcap/blah.pcapng\"\n",
    "\n",
    "x = requests.get(user_password + server_ip + endpoint, headers={\"KISMET\": \"E62F6C667B3CF269798AC58E0D811D85\"})\n",
    "print(x.status_code)"
   ]
  },
  {
   "cell_type": "code",
   "execution_count": 3,
   "metadata": {},
   "outputs": [],
   "source": [
    "file_str = re.sub('/', '_', endpoint[1:])\n",
    "with open(f'api/{file_str}', \"wb\") as file:\n",
    "    file.write(x.content)"
   ]
  },
  {
   "attachments": {},
   "cell_type": "markdown",
   "metadata": {},
   "source": [
    "# Getting device data"
   ]
  },
  {
   "cell_type": "code",
   "execution_count": 4,
   "metadata": {},
   "outputs": [],
   "source": [
    "import requests\n",
    "import json\n",
    "\n",
    "user_password = \"http://sniffer:sniffer@\"\n",
    "server_ip = \"192.168.137.74:2501\"\n",
    "\n",
    "# Retrieved from: \n",
    "# endpoint = \"/devices/views/all_views.json\"\n",
    "bluetooth_VIEWID = \"phy-Bluetooth\"\n",
    "accesspoints_VIEWID = \"phydot11_accesspoints\"\n",
    "IEEE802_11_VIEWID = \"phy-IEEE802.11\"\n",
    "all_VIEWID = \"all\"\n",
    "\n",
    "VIEWID_list = [bluetooth_VIEWID, accesspoints_VIEWID, IEEE802_11_VIEWID, all_VIEWID]\n",
    "\n",
    "for VIEWID in VIEWID_list:\n",
    "    endpoint = f\"/devices/views/{VIEWID}/devices.json\"\n",
    "    x = requests.get(user_password + server_ip + endpoint, headers={\"KISMET\": \"E62F6C667B3CF269798AC58E0D811D85\"})\n",
    "    json_object = json.dumps(x.json(), indent=4)\n",
    "\n",
    "    with open(f\"api/devices/{VIEWID}.json\", \"w\") as outfile:\n",
    "        outfile.write(json_object)"
   ]
  }
 ],
 "metadata": {
  "kernelspec": {
   "display_name": "ddos",
   "language": "python",
   "name": "python3"
  },
  "language_info": {
   "codemirror_mode": {
    "name": "ipython",
    "version": 3
   },
   "file_extension": ".py",
   "mimetype": "text/x-python",
   "name": "python",
   "nbconvert_exporter": "python",
   "pygments_lexer": "ipython3",
   "version": "3.9.16"
  },
  "orig_nbformat": 4,
  "vscode": {
   "interpreter": {
    "hash": "474ed52265fd76aac0794e4da77b23e0aa448c3e84fa6827d508411bbdf5b83f"
   }
  }
 },
 "nbformat": 4,
 "nbformat_minor": 2
}
